{
 "cells": [
  {
   "cell_type": "markdown",
   "metadata": {},
   "source": [
    "# Web Scraping Libraries imported"
   ]
  },
  {
   "cell_type": "code",
   "execution_count": 1,
   "metadata": {},
   "outputs": [],
   "source": [
    "import requests\n",
    "from bs4 import BeautifulSoup"
   ]
  },
  {
   "cell_type": "markdown",
   "metadata": {},
   "source": [
    "# Storing all the page links of the website"
   ]
  },
  {
   "cell_type": "code",
   "execution_count": 2,
   "metadata": {},
   "outputs": [],
   "source": [
    "url_pgs=['https://www.rottentomatoes.com/m/the_interview_2014/reviews','https://www.rottentomatoes.com/m/the_interview_2014/reviews?type=&sort=&page=2','https://www.rottentomatoes.com/m/the_interview_2014/reviews?type=&sort=&page=3','https://www.rottentomatoes.com/m/the_interview_2014/reviews?type=&sort=&page=4','https://www.rottentomatoes.com/m/the_interview_2014/reviews?type=&sort=&page=5','https://www.rottentomatoes.com/m/the_interview_2014/reviews?type=&sort=&page=6','https://www.rottentomatoes.com/m/the_interview_2014/reviews?type=&sort=&page=7','https://www.rottentomatoes.com/m/the_interview_2014/reviews?type=&sort=&page=8']"
   ]
  },
  {
   "cell_type": "markdown",
   "metadata": {},
   "source": [
    "# Getting all the necessary data for training including --- user_name,reviews,date,review_strength"
   ]
  },
  {
   "cell_type": "code",
   "execution_count": 3,
   "metadata": {},
   "outputs": [
    {
     "name": "stdout",
     "output_type": "stream",
     "text": [
      "\n"
     ]
    }
   ],
   "source": [
    "users_list=[]\n",
    "try:\n",
    "    for url in range(len(url_pgs)+1):\n",
    "        src=requests.get(url_pgs[url])\n",
    "        critics_soup=BeautifulSoup(src.content,'html')\n",
    "        users=critics_soup.find_all('div',{'class':'col-sm-17 col-xs-32 critic_name'})\n",
    "        for user_name in range(20):\n",
    "            users_list.append(users[user_name].a.attrs['href'])\n",
    "except IndexError:\n",
    "    print(\"\")"
   ]
  },
  {
   "cell_type": "code",
   "execution_count": 4,
   "metadata": {},
   "outputs": [
    {
     "data": {
      "text/plain": [
       "153"
      ]
     },
     "execution_count": 4,
     "metadata": {},
     "output_type": "execute_result"
    }
   ],
   "source": [
    "len(users_list)"
   ]
  },
  {
   "cell_type": "code",
   "execution_count": 5,
   "metadata": {},
   "outputs": [
    {
     "name": "stdout",
     "output_type": "stream",
     "text": [
      "\n"
     ]
    }
   ],
   "source": [
    "reviews_list=[]\n",
    "try:\n",
    "    for url in range(len(url_pgs)+1):\n",
    "        src=requests.get(url_pgs[url])\n",
    "        critics_soup=BeautifulSoup(src.content,'html')\n",
    "        user_reviews=critics_soup.find_all('div',{'class':'the_review','data-qa':'review-text'})\n",
    "        for reviews in range(20):\n",
    "            reviews_list.append(user_reviews[reviews].text)\n",
    "except IndexError:\n",
    "    print(\"\")"
   ]
  },
  {
   "cell_type": "code",
   "execution_count": 6,
   "metadata": {},
   "outputs": [
    {
     "data": {
      "text/plain": [
       "153"
      ]
     },
     "execution_count": 6,
     "metadata": {},
     "output_type": "execute_result"
    }
   ],
   "source": [
    "len(reviews_list)"
   ]
  },
  {
   "cell_type": "code",
   "execution_count": 7,
   "metadata": {},
   "outputs": [
    {
     "name": "stdout",
     "output_type": "stream",
     "text": [
      "\n"
     ]
    }
   ],
   "source": [
    "posting_date=[]\n",
    "try:\n",
    "    for url in range(len(url_pgs)+1):\n",
    "        src=requests.get(url_pgs[url])\n",
    "        critics_soup=BeautifulSoup(src.content,'html')\n",
    "        review_date=critics_soup.find_all('div',{'class':'review-date subtle small','data-qa':'review-date'})\n",
    "        for date in range(20):\n",
    "            posting_date.append(review_date[date].text)\n",
    "except IndexError:\n",
    "    print(\"\")"
   ]
  },
  {
   "cell_type": "code",
   "execution_count": 8,
   "metadata": {},
   "outputs": [
    {
     "data": {
      "text/plain": [
       "153"
      ]
     },
     "execution_count": 8,
     "metadata": {},
     "output_type": "execute_result"
    }
   ],
   "source": [
    "len(posting_date)"
   ]
  },
  {
   "cell_type": "code",
   "execution_count": 9,
   "metadata": {},
   "outputs": [
    {
     "name": "stdout",
     "output_type": "stream",
     "text": [
      "\n"
     ]
    }
   ],
   "source": [
    "critics=[]\n",
    "try:\n",
    "    for url in range(len(url_pgs)+1):\n",
    "        src=requests.get(url_pgs[url])\n",
    "        critics_soup=BeautifulSoup(src.content,'html')\n",
    "        critics_strength=critics_soup.find_all('div',{'class':['review_icon icon small rotten','review_icon icon small fresh']})\n",
    "        for strength in range(20):\n",
    "            critics.append(str(critics_strength[strength]))\n",
    "except IndexError:\n",
    "    print(\"\")"
   ]
  },
  {
   "cell_type": "code",
   "execution_count": 10,
   "metadata": {},
   "outputs": [
    {
     "data": {
      "text/plain": [
       "['<div class=\"review_icon icon small rotten\">\\n</div>',\n",
       " '<div class=\"review_icon icon small rotten\">\\n</div>',\n",
       " '<div class=\"review_icon icon small rotten\">\\n</div>',\n",
       " '<div class=\"review_icon icon small fresh\">\\n</div>',\n",
       " '<div class=\"review_icon icon small fresh\">\\n</div>',\n",
       " '<div class=\"review_icon icon small fresh\">\\n</div>',\n",
       " '<div class=\"review_icon icon small fresh\">\\n</div>',\n",
       " '<div class=\"review_icon icon small fresh\">\\n</div>',\n",
       " '<div class=\"review_icon icon small rotten\">\\n</div>']"
      ]
     },
     "execution_count": 10,
     "metadata": {},
     "output_type": "execute_result"
    }
   ],
   "source": [
    "critics[:9]"
   ]
  },
  {
   "cell_type": "code",
   "execution_count": 11,
   "metadata": {},
   "outputs": [
    {
     "data": {
      "text/plain": [
       "153"
      ]
     },
     "execution_count": 11,
     "metadata": {},
     "output_type": "execute_result"
    }
   ],
   "source": [
    "len(critics)"
   ]
  },
  {
   "cell_type": "markdown",
   "metadata": {},
   "source": [
    "# Converting the raw web data into a Dataframe"
   ]
  },
  {
   "cell_type": "code",
   "execution_count": 12,
   "metadata": {},
   "outputs": [
    {
     "data": {
      "text/html": [
       "<div>\n",
       "<style scoped>\n",
       "    .dataframe tbody tr th:only-of-type {\n",
       "        vertical-align: middle;\n",
       "    }\n",
       "\n",
       "    .dataframe tbody tr th {\n",
       "        vertical-align: top;\n",
       "    }\n",
       "\n",
       "    .dataframe thead th {\n",
       "        text-align: right;\n",
       "    }\n",
       "</style>\n",
       "<table border=\"1\" class=\"dataframe\">\n",
       "  <thead>\n",
       "    <tr style=\"text-align: right;\">\n",
       "      <th></th>\n",
       "      <th>Date</th>\n",
       "      <th>User</th>\n",
       "      <th>Reviews</th>\n",
       "      <th>Critics_Strength</th>\n",
       "    </tr>\n",
       "  </thead>\n",
       "  <tbody>\n",
       "    <tr>\n",
       "      <th>0</th>\n",
       "      <td>\\r\\n                February 12, 2021\\r\\n     ...</td>\n",
       "      <td>/critic/david-walsh</td>\n",
       "      <td>\\r\\n                    One feels ashamed for ...</td>\n",
       "      <td>&lt;div class=\"review_icon icon small rotten\"&gt;\\n&lt;...</td>\n",
       "    </tr>\n",
       "    <tr>\n",
       "      <th>1</th>\n",
       "      <td>\\r\\n                February 2, 2021\\r\\n      ...</td>\n",
       "      <td>/critic/richard-crouse</td>\n",
       "      <td>\\r\\n                    Once the scenery chang...</td>\n",
       "      <td>&lt;div class=\"review_icon icon small rotten\"&gt;\\n&lt;...</td>\n",
       "    </tr>\n",
       "    <tr>\n",
       "      <th>2</th>\n",
       "      <td>\\r\\n                December 4, 2020\\r\\n      ...</td>\n",
       "      <td>/critic/mike-massie</td>\n",
       "      <td>\\r\\n                    Editing shortcomings a...</td>\n",
       "      <td>&lt;div class=\"review_icon icon small rotten\"&gt;\\n&lt;...</td>\n",
       "    </tr>\n",
       "    <tr>\n",
       "      <th>3</th>\n",
       "      <td>\\r\\n                July 7, 2020\\r\\n</td>\n",
       "      <td>/critic/brent-mcknight</td>\n",
       "      <td>\\r\\n                    A silly, enjoyable eno...</td>\n",
       "      <td>&lt;div class=\"review_icon icon small fresh\"&gt;\\n&lt;/...</td>\n",
       "    </tr>\n",
       "    <tr>\n",
       "      <th>4</th>\n",
       "      <td>\\r\\n                June 16, 2020\\r\\n</td>\n",
       "      <td>/critic/matthew-rozsa</td>\n",
       "      <td>\\r\\n                    At its core, The Inter...</td>\n",
       "      <td>&lt;div class=\"review_icon icon small fresh\"&gt;\\n&lt;/...</td>\n",
       "    </tr>\n",
       "    <tr>\n",
       "      <th>...</th>\n",
       "      <td>...</td>\n",
       "      <td>...</td>\n",
       "      <td>...</td>\n",
       "      <td>...</td>\n",
       "    </tr>\n",
       "    <tr>\n",
       "      <th>148</th>\n",
       "      <td>\\r\\n                December 12, 2014\\r\\n     ...</td>\n",
       "      <td>/critic/jordan-hoffman</td>\n",
       "      <td>\\r\\n                    Putting two American d...</td>\n",
       "      <td>&lt;div class=\"review_icon icon small fresh\"&gt;\\n&lt;/...</td>\n",
       "    </tr>\n",
       "    <tr>\n",
       "      <th>149</th>\n",
       "      <td>\\r\\n                December 12, 2014\\r\\n     ...</td>\n",
       "      <td>/critic/scott-foundas</td>\n",
       "      <td>\\r\\n                    About as funny as a co...</td>\n",
       "      <td>&lt;div class=\"review_icon icon small rotten\"&gt;\\n&lt;...</td>\n",
       "    </tr>\n",
       "    <tr>\n",
       "      <th>150</th>\n",
       "      <td>\\r\\n                December 12, 2014\\r\\n     ...</td>\n",
       "      <td>/critic/scott-mendelson</td>\n",
       "      <td>\\r\\n                    The Interview flirts w...</td>\n",
       "      <td>&lt;div class=\"review_icon icon small fresh\"&gt;\\n&lt;/...</td>\n",
       "    </tr>\n",
       "    <tr>\n",
       "      <th>151</th>\n",
       "      <td>\\r\\n                December 12, 2014\\r\\n     ...</td>\n",
       "      <td>/critic/edward-douglas</td>\n",
       "      <td>\\r\\n                    Hilarious, but it's pr...</td>\n",
       "      <td>&lt;div class=\"review_icon icon small fresh\"&gt;\\n&lt;/...</td>\n",
       "    </tr>\n",
       "    <tr>\n",
       "      <th>152</th>\n",
       "      <td>\\r\\n                December 11, 2014\\r\\n     ...</td>\n",
       "      <td>/critic/claudia-puig</td>\n",
       "      <td>\\r\\n                    The Interview fails to...</td>\n",
       "      <td>&lt;div class=\"review_icon icon small rotten\"&gt;\\n&lt;...</td>\n",
       "    </tr>\n",
       "  </tbody>\n",
       "</table>\n",
       "<p>153 rows × 4 columns</p>\n",
       "</div>"
      ],
      "text/plain": [
       "                                                  Date  \\\n",
       "0    \\r\\n                February 12, 2021\\r\\n     ...   \n",
       "1    \\r\\n                February 2, 2021\\r\\n      ...   \n",
       "2    \\r\\n                December 4, 2020\\r\\n      ...   \n",
       "3     \\r\\n                July 7, 2020\\r\\n               \n",
       "4    \\r\\n                June 16, 2020\\r\\n               \n",
       "..                                                 ...   \n",
       "148  \\r\\n                December 12, 2014\\r\\n     ...   \n",
       "149  \\r\\n                December 12, 2014\\r\\n     ...   \n",
       "150  \\r\\n                December 12, 2014\\r\\n     ...   \n",
       "151  \\r\\n                December 12, 2014\\r\\n     ...   \n",
       "152  \\r\\n                December 11, 2014\\r\\n     ...   \n",
       "\n",
       "                        User  \\\n",
       "0        /critic/david-walsh   \n",
       "1     /critic/richard-crouse   \n",
       "2        /critic/mike-massie   \n",
       "3     /critic/brent-mcknight   \n",
       "4      /critic/matthew-rozsa   \n",
       "..                       ...   \n",
       "148   /critic/jordan-hoffman   \n",
       "149    /critic/scott-foundas   \n",
       "150  /critic/scott-mendelson   \n",
       "151   /critic/edward-douglas   \n",
       "152     /critic/claudia-puig   \n",
       "\n",
       "                                               Reviews  \\\n",
       "0    \\r\\n                    One feels ashamed for ...   \n",
       "1    \\r\\n                    Once the scenery chang...   \n",
       "2    \\r\\n                    Editing shortcomings a...   \n",
       "3    \\r\\n                    A silly, enjoyable eno...   \n",
       "4    \\r\\n                    At its core, The Inter...   \n",
       "..                                                 ...   \n",
       "148  \\r\\n                    Putting two American d...   \n",
       "149  \\r\\n                    About as funny as a co...   \n",
       "150  \\r\\n                    The Interview flirts w...   \n",
       "151  \\r\\n                    Hilarious, but it's pr...   \n",
       "152  \\r\\n                    The Interview fails to...   \n",
       "\n",
       "                                      Critics_Strength  \n",
       "0    <div class=\"review_icon icon small rotten\">\\n<...  \n",
       "1    <div class=\"review_icon icon small rotten\">\\n<...  \n",
       "2    <div class=\"review_icon icon small rotten\">\\n<...  \n",
       "3    <div class=\"review_icon icon small fresh\">\\n</...  \n",
       "4    <div class=\"review_icon icon small fresh\">\\n</...  \n",
       "..                                                 ...  \n",
       "148  <div class=\"review_icon icon small fresh\">\\n</...  \n",
       "149  <div class=\"review_icon icon small rotten\">\\n<...  \n",
       "150  <div class=\"review_icon icon small fresh\">\\n</...  \n",
       "151  <div class=\"review_icon icon small fresh\">\\n</...  \n",
       "152  <div class=\"review_icon icon small rotten\">\\n<...  \n",
       "\n",
       "[153 rows x 4 columns]"
      ]
     },
     "execution_count": 12,
     "metadata": {},
     "output_type": "execute_result"
    }
   ],
   "source": [
    "import pandas as pd\n",
    "raw_web_data=pd.DataFrame({'Date':posting_date,'User':users_list,'Reviews':reviews_list,'Critics_Strength':critics})\n",
    "raw_web_data"
   ]
  },
  {
   "cell_type": "markdown",
   "metadata": {},
   "source": [
    "# Binarily classifying the review Strength for classification modelling."
   ]
  },
  {
   "cell_type": "code",
   "execution_count": 13,
   "metadata": {},
   "outputs": [],
   "source": [
    "raw_web_data['Critics_Strength']=raw_web_data['Critics_Strength'].map({'''<div class=\"review_icon icon small rotten\">\\n</div>''':0,'''<div class=\"review_icon icon small fresh\">\\n</div>''':1})"
   ]
  },
  {
   "cell_type": "code",
   "execution_count": 14,
   "metadata": {},
   "outputs": [],
   "source": [
    "raw_web_data['Date']=pd.to_datetime(raw_web_data['Date'])"
   ]
  },
  {
   "cell_type": "code",
   "execution_count": 15,
   "metadata": {},
   "outputs": [
    {
     "data": {
      "text/html": [
       "<div>\n",
       "<style scoped>\n",
       "    .dataframe tbody tr th:only-of-type {\n",
       "        vertical-align: middle;\n",
       "    }\n",
       "\n",
       "    .dataframe tbody tr th {\n",
       "        vertical-align: top;\n",
       "    }\n",
       "\n",
       "    .dataframe thead th {\n",
       "        text-align: right;\n",
       "    }\n",
       "</style>\n",
       "<table border=\"1\" class=\"dataframe\">\n",
       "  <thead>\n",
       "    <tr style=\"text-align: right;\">\n",
       "      <th></th>\n",
       "      <th>Date</th>\n",
       "      <th>User</th>\n",
       "      <th>Reviews</th>\n",
       "      <th>Critics_Strength</th>\n",
       "    </tr>\n",
       "  </thead>\n",
       "  <tbody>\n",
       "    <tr>\n",
       "      <th>0</th>\n",
       "      <td>2021-02-12</td>\n",
       "      <td>/critic/david-walsh</td>\n",
       "      <td>\\r\\n                    One feels ashamed for ...</td>\n",
       "      <td>0</td>\n",
       "    </tr>\n",
       "    <tr>\n",
       "      <th>1</th>\n",
       "      <td>2021-02-02</td>\n",
       "      <td>/critic/richard-crouse</td>\n",
       "      <td>\\r\\n                    Once the scenery chang...</td>\n",
       "      <td>0</td>\n",
       "    </tr>\n",
       "    <tr>\n",
       "      <th>2</th>\n",
       "      <td>2020-12-04</td>\n",
       "      <td>/critic/mike-massie</td>\n",
       "      <td>\\r\\n                    Editing shortcomings a...</td>\n",
       "      <td>0</td>\n",
       "    </tr>\n",
       "    <tr>\n",
       "      <th>3</th>\n",
       "      <td>2020-07-07</td>\n",
       "      <td>/critic/brent-mcknight</td>\n",
       "      <td>\\r\\n                    A silly, enjoyable eno...</td>\n",
       "      <td>1</td>\n",
       "    </tr>\n",
       "    <tr>\n",
       "      <th>4</th>\n",
       "      <td>2020-06-16</td>\n",
       "      <td>/critic/matthew-rozsa</td>\n",
       "      <td>\\r\\n                    At its core, The Inter...</td>\n",
       "      <td>1</td>\n",
       "    </tr>\n",
       "    <tr>\n",
       "      <th>...</th>\n",
       "      <td>...</td>\n",
       "      <td>...</td>\n",
       "      <td>...</td>\n",
       "      <td>...</td>\n",
       "    </tr>\n",
       "    <tr>\n",
       "      <th>148</th>\n",
       "      <td>2014-12-12</td>\n",
       "      <td>/critic/jordan-hoffman</td>\n",
       "      <td>\\r\\n                    Putting two American d...</td>\n",
       "      <td>1</td>\n",
       "    </tr>\n",
       "    <tr>\n",
       "      <th>149</th>\n",
       "      <td>2014-12-12</td>\n",
       "      <td>/critic/scott-foundas</td>\n",
       "      <td>\\r\\n                    About as funny as a co...</td>\n",
       "      <td>0</td>\n",
       "    </tr>\n",
       "    <tr>\n",
       "      <th>150</th>\n",
       "      <td>2014-12-12</td>\n",
       "      <td>/critic/scott-mendelson</td>\n",
       "      <td>\\r\\n                    The Interview flirts w...</td>\n",
       "      <td>1</td>\n",
       "    </tr>\n",
       "    <tr>\n",
       "      <th>151</th>\n",
       "      <td>2014-12-12</td>\n",
       "      <td>/critic/edward-douglas</td>\n",
       "      <td>\\r\\n                    Hilarious, but it's pr...</td>\n",
       "      <td>1</td>\n",
       "    </tr>\n",
       "    <tr>\n",
       "      <th>152</th>\n",
       "      <td>2014-12-11</td>\n",
       "      <td>/critic/claudia-puig</td>\n",
       "      <td>\\r\\n                    The Interview fails to...</td>\n",
       "      <td>0</td>\n",
       "    </tr>\n",
       "  </tbody>\n",
       "</table>\n",
       "<p>153 rows × 4 columns</p>\n",
       "</div>"
      ],
      "text/plain": [
       "          Date                     User  \\\n",
       "0   2021-02-12      /critic/david-walsh   \n",
       "1   2021-02-02   /critic/richard-crouse   \n",
       "2   2020-12-04      /critic/mike-massie   \n",
       "3   2020-07-07   /critic/brent-mcknight   \n",
       "4   2020-06-16    /critic/matthew-rozsa   \n",
       "..         ...                      ...   \n",
       "148 2014-12-12   /critic/jordan-hoffman   \n",
       "149 2014-12-12    /critic/scott-foundas   \n",
       "150 2014-12-12  /critic/scott-mendelson   \n",
       "151 2014-12-12   /critic/edward-douglas   \n",
       "152 2014-12-11     /critic/claudia-puig   \n",
       "\n",
       "                                               Reviews  Critics_Strength  \n",
       "0    \\r\\n                    One feels ashamed for ...                 0  \n",
       "1    \\r\\n                    Once the scenery chang...                 0  \n",
       "2    \\r\\n                    Editing shortcomings a...                 0  \n",
       "3    \\r\\n                    A silly, enjoyable eno...                 1  \n",
       "4    \\r\\n                    At its core, The Inter...                 1  \n",
       "..                                                 ...               ...  \n",
       "148  \\r\\n                    Putting two American d...                 1  \n",
       "149  \\r\\n                    About as funny as a co...                 0  \n",
       "150  \\r\\n                    The Interview flirts w...                 1  \n",
       "151  \\r\\n                    Hilarious, but it's pr...                 1  \n",
       "152  \\r\\n                    The Interview fails to...                 0  \n",
       "\n",
       "[153 rows x 4 columns]"
      ]
     },
     "execution_count": 15,
     "metadata": {},
     "output_type": "execute_result"
    }
   ],
   "source": [
    "raw_web_data"
   ]
  },
  {
   "cell_type": "code",
   "execution_count": 16,
   "metadata": {},
   "outputs": [],
   "source": [
    "raw_web_data.to_csv('D:/nlp/Interview Web Data.csv')"
   ]
  },
  {
   "cell_type": "markdown",
   "metadata": {},
   "source": [
    "# It Looks like the percentage of positive and negative reviews is in the border line,close to 50%"
   ]
  },
  {
   "cell_type": "code",
   "execution_count": 17,
   "metadata": {},
   "outputs": [
    {
     "data": {
      "text/plain": [
       "<AxesSubplot:xlabel='Critics_Strength', ylabel='count'>"
      ]
     },
     "execution_count": 17,
     "metadata": {},
     "output_type": "execute_result"
    },
    {
     "data": {
      "image/png": "[encoded data removed]",
      "text/plain": [
       "<Figure size 432x288 with 1 Axes>"
      ]
     },
     "metadata": {
      "needs_background": "light"
     },
     "output_type": "display_data"
    }
   ],
   "source": [
    "import seaborn as sns\n",
    "sns.countplot(x='Critics_Strength', data=raw_web_data)"
   ]
  },
  {
   "cell_type": "markdown",
   "metadata": {},
   "source": [
    "# importing Natural language Processing Libraries work with the text data.. In here I am applying Lematization to get a meaningful word."
   ]
  },
  {
   "cell_type": "code",
   "execution_count": 18,
   "metadata": {},
   "outputs": [
    {
     "name": "stderr",
     "output_type": "stream",
     "text": [
      "[nltk_data] Downloading package wordnet to\n",
      "[nltk_data]     C:\\Users\\Viking\\AppData\\Roaming\\nltk_data...\n",
      "[nltk_data]   Package wordnet is already up-to-date!\n"
     ]
    }
   ],
   "source": [
    "import re\n",
    "import nltk\n",
    "nltk.download('wordnet')\n",
    "from nltk.corpus import stopwords\n",
    "from nltk.stem import WordNetLemmatizer\n",
    "corpus = []\n",
    "lemmatizer = WordNetLemmatizer() \n",
    "for i in range(len(raw_web_data)):\n",
    "    review = re.sub('[^a-zA-Z]',\" \",raw_web_data[\"Reviews\"][i])\n",
    "    review = review.lower()\n",
    "    review = review.split()\n",
    "    review = [lemmatizer.lemmatize(word) for word in review if word.lower() not in set(stopwords.words('english'))]\n",
    "    review = ' '.join(review)\n",
    "    corpus.append(review)"
   ]
  },
  {
   "cell_type": "code",
   "execution_count": 19,
   "metadata": {
    "scrolled": true
   },
   "outputs": [
    {
     "data": {
      "text/plain": [
       "['one feel ashamed performer crewmembers involved one feel embarrassed watched film',\n",
       " 'scenery change hollywood hermit kingdom however laugh become rare angelina jolie compliment leaked sony e mail',\n",
       " 'editing shortcoming storyline inattentiveness betray production plagued studio interference',\n",
       " 'silly enjoyable enough movie destined remembered thing nothing screen',\n",
       " 'core interview remarkably insightful thesis human nature politics',\n",
       " 'rogan company anything set make funny movie reasonably successful filmmaker artist job got swept something bigger maybe art supposed work',\n",
       " 'two stoner dude bumbled way real world crisis like movie two smart comedian turned seemingly innocuous comedy real life act defiance',\n",
       " 'headline strained politicize film merely crass caustic comedy whose point view let cultural coverage brainwash best u whether involves human right celebrity hairpiece',\n",
       " 'mediocre comedy lamest act war ever']"
      ]
     },
     "execution_count": 19,
     "metadata": {},
     "output_type": "execute_result"
    }
   ],
   "source": [
    "corpus[:9]"
   ]
  },
  {
   "cell_type": "markdown",
   "metadata": {},
   "source": [
    "# Using TFIDF Vectoriser so that it can classify the importance of each word in the reviews."
   ]
  },
  {
   "cell_type": "code",
   "execution_count": 20,
   "metadata": {},
   "outputs": [],
   "source": [
    "from sklearn.feature_extraction.text import TfidfVectorizer\n",
    "tfidf=TfidfVectorizer()\n",
    "x=tfidf.fit_transform(corpus).toarray()"
   ]
  },
  {
   "cell_type": "code",
   "execution_count": 21,
   "metadata": {
    "scrolled": true
   },
   "outputs": [
    {
     "name": "stdout",
     "output_type": "stream",
     "text": [
      "[[0. 0. 0. ... 0. 0. 0.]\n",
      " [0. 0. 0. ... 0. 0. 0.]\n",
      " [0. 0. 0. ... 0. 0. 0.]\n",
      " ...\n",
      " [0. 0. 0. ... 0. 0. 0.]\n",
      " [0. 0. 0. ... 0. 0. 0.]\n",
      " [0. 0. 0. ... 0. 0. 0.]]\n"
     ]
    }
   ],
   "source": [
    "print(x)"
   ]
  },
  {
   "cell_type": "markdown",
   "metadata": {},
   "source": [
    "# Applying train test split and testing with different models which will help me to find the best fit model for classification."
   ]
  },
  {
   "cell_type": "code",
   "execution_count": 22,
   "metadata": {},
   "outputs": [],
   "source": [
    "y=raw_web_data['Critics_Strength']\n",
    "from sklearn.model_selection import train_test_split as tts\n",
    "xtrain,xtest,ytrain,ytest=tts(x,y,test_size=0.3,random_state=0,stratify=y)"
   ]
  },
  {
   "cell_type": "code",
   "execution_count": 23,
   "metadata": {},
   "outputs": [
    {
     "data": {
      "text/plain": [
       "MultinomialNB()"
      ]
     },
     "execution_count": 23,
     "metadata": {},
     "output_type": "execute_result"
    }
   ],
   "source": [
    "from sklearn.naive_bayes import MultinomialNB\n",
    "from sklearn.metrics import accuracy_score,classification_report,confusion_matrix\n",
    "multinb = MultinomialNB()\n",
    "multinb.fit(xtrain,ytrain)"
   ]
  },
  {
   "cell_type": "code",
   "execution_count": 24,
   "metadata": {},
   "outputs": [
    {
     "data": {
      "text/plain": [
       "0.41304347826086957"
      ]
     },
     "execution_count": 24,
     "metadata": {},
     "output_type": "execute_result"
    }
   ],
   "source": [
    "y_pred_multinb = multinb.predict(xtest)\n",
    "accuracy_score(y_pred_multinb,ytest)"
   ]
  },
  {
   "cell_type": "code",
   "execution_count": 25,
   "metadata": {},
   "outputs": [
    {
     "name": "stdout",
     "output_type": "stream",
     "text": [
      "              precision    recall  f1-score   support\n",
      "\n",
      "           0       0.22      0.36      0.27        14\n",
      "           1       0.61      0.44      0.51        32\n",
      "\n",
      "    accuracy                           0.41        46\n",
      "   macro avg       0.41      0.40      0.39        46\n",
      "weighted avg       0.49      0.41      0.44        46\n",
      "\n"
     ]
    }
   ],
   "source": [
    "print(classification_report(y_pred_multinb,ytest))"
   ]
  },
  {
   "cell_type": "code",
   "execution_count": 26,
   "metadata": {},
   "outputs": [],
   "source": [
    "from sklearn.linear_model import LogisticRegression\n",
    "log_r= LogisticRegression()\n",
    "log_r.fit(xtrain,ytrain)\n",
    "y_pred_log_r=log_r.predict(xtest)"
   ]
  },
  {
   "cell_type": "code",
   "execution_count": 27,
   "metadata": {},
   "outputs": [
    {
     "data": {
      "text/plain": [
       "0.391304347826087"
      ]
     },
     "execution_count": 27,
     "metadata": {},
     "output_type": "execute_result"
    }
   ],
   "source": [
    "accuracy_score(y_pred_log_r,ytest)"
   ]
  },
  {
   "cell_type": "code",
   "execution_count": 28,
   "metadata": {},
   "outputs": [
    {
     "name": "stdout",
     "output_type": "stream",
     "text": [
      "              precision    recall  f1-score   support\n",
      "\n",
      "           0       0.26      0.35      0.30        17\n",
      "           1       0.52      0.41      0.46        29\n",
      "\n",
      "    accuracy                           0.39        46\n",
      "   macro avg       0.39      0.38      0.38        46\n",
      "weighted avg       0.43      0.39      0.40        46\n",
      "\n"
     ]
    }
   ],
   "source": [
    "print(classification_report(y_pred_log_r,ytest))"
   ]
  },
  {
   "cell_type": "code",
   "execution_count": 29,
   "metadata": {},
   "outputs": [],
   "source": [
    "from sklearn.ensemble import RandomForestClassifier\n",
    "rfc=RandomForestClassifier()\n",
    "rfc.fit(xtrain,ytrain)\n",
    "y_pred_rfc=rfc.predict(xtest)"
   ]
  },
  {
   "cell_type": "code",
   "execution_count": 30,
   "metadata": {},
   "outputs": [
    {
     "data": {
      "text/plain": [
       "0.5"
      ]
     },
     "execution_count": 30,
     "metadata": {},
     "output_type": "execute_result"
    }
   ],
   "source": [
    "accuracy_score(y_pred_rfc,ytest)"
   ]
  },
  {
   "cell_type": "code",
   "execution_count": 31,
   "metadata": {},
   "outputs": [
    {
     "name": "stdout",
     "output_type": "stream",
     "text": [
      "              precision    recall  f1-score   support\n",
      "\n",
      "           0       0.43      0.50      0.47        20\n",
      "           1       0.57      0.50      0.53        26\n",
      "\n",
      "    accuracy                           0.50        46\n",
      "   macro avg       0.50      0.50      0.50        46\n",
      "weighted avg       0.51      0.50      0.50        46\n",
      "\n"
     ]
    }
   ],
   "source": [
    "print(classification_report(y_pred_rfc,ytest))"
   ]
  },
  {
   "cell_type": "code",
   "execution_count": 32,
   "metadata": {},
   "outputs": [],
   "source": [
    "from sklearn.ensemble import GradientBoostingClassifier\n",
    "gbc=GradientBoostingClassifier()\n",
    "gbc.fit(xtrain,ytrain)\n",
    "y_pred_gbc=rfc.predict(xtest)"
   ]
  },
  {
   "cell_type": "code",
   "execution_count": 33,
   "metadata": {},
   "outputs": [
    {
     "data": {
      "text/plain": [
       "0.5"
      ]
     },
     "execution_count": 33,
     "metadata": {},
     "output_type": "execute_result"
    }
   ],
   "source": [
    "accuracy_score(y_pred_gbc,ytest)"
   ]
  },
  {
   "cell_type": "code",
   "execution_count": 34,
   "metadata": {
    "scrolled": true
   },
   "outputs": [
    {
     "name": "stdout",
     "output_type": "stream",
     "text": [
      "              precision    recall  f1-score   support\n",
      "\n",
      "           0       0.43      0.50      0.47        20\n",
      "           1       0.57      0.50      0.53        26\n",
      "\n",
      "    accuracy                           0.50        46\n",
      "   macro avg       0.50      0.50      0.50        46\n",
      "weighted avg       0.51      0.50      0.50        46\n",
      "\n"
     ]
    }
   ],
   "source": [
    "print(classification_report(y_pred_gbc,ytest))"
   ]
  },
  {
   "cell_type": "markdown",
   "metadata": {},
   "source": [
    "# Now, its time to Check with a personalised comment, whether it is a fresh or a rotten review as per Rotten Tomatoes website classification. "
   ]
  },
  {
   "cell_type": "code",
   "execution_count": 35,
   "metadata": {},
   "outputs": [],
   "source": [
    "def preprocess_text(inputs):\n",
    "    corpus = []\n",
    "    lemmatizer = WordNetLemmatizer() \n",
    "    review = re.sub('[^a-zA-Z]',\" \",inputs)\n",
    "    review = review.lower()\n",
    "    review = review.split()\n",
    "    review = [lemmatizer.lemmatize(word) for word in review if word.lower() not in set(stopwords.words('english'))]\n",
    "    review = ' '.join(review)\n",
    "    corpus.append(review)\n",
    "    return corpus"
   ]
  },
  {
   "cell_type": "code",
   "execution_count": 36,
   "metadata": {},
   "outputs": [],
   "source": [
    "inputs=' Now The Interview has to stand on its own. It’s the movie event of the year for reasons that have almost nothing to do with the movie itself. I don’t know any political satire that could carry the burden of repping free expression in America. The Interview certainly can’t. Its mission is merely to make audiences piss themselves laughing. At that it succeeds. It’s killer funny. Even when the jokes miss, or grow repetitive, you can’t help rooting for it.'"
   ]
  },
  {
   "cell_type": "code",
   "execution_count": 37,
   "metadata": {},
   "outputs": [
    {
     "name": "stdout",
     "output_type": "stream",
     "text": [
      "The Review is a Rotten Review\n"
     ]
    }
   ],
   "source": [
    "corpus = preprocess_text(inputs)\n",
    "x= tfidf.transform(corpus).toarray()\n",
    "prediction = rfc.predict(x)[0]\n",
    "if prediction == 1:\n",
    "    print(\"The review is a Fresh Review\")\n",
    "elif prediction == 0:\n",
    "    print(\"The Review is a Rotten Review\")"
   ]
  },
  {
   "cell_type": "code",
   "execution_count": 38,
   "metadata": {},
   "outputs": [],
   "source": [
    "inputs='I just loved the movie everytime I watch it.'"
   ]
  },
  {
   "cell_type": "code",
   "execution_count": 39,
   "metadata": {},
   "outputs": [
    {
     "name": "stdout",
     "output_type": "stream",
     "text": [
      "The review is a Fresh Review\n"
     ]
    }
   ],
   "source": [
    "corpus = preprocess_text(inputs)\n",
    "x= tfidf.transform(corpus).toarray()\n",
    "prediction = rfc.predict(x)[0]\n",
    "if prediction == 1:\n",
    "    print(\"The review is a Fresh Review\")\n",
    "elif prediction == 0:\n",
    "    print(\"The Review is a Rotten Review\")"
   ]
  },
  {
   "cell_type": "code",
   "execution_count": 40,
   "metadata": {},
   "outputs": [],
   "source": [
    "import pickle\n",
    "pickle.dump(rfc,open(\"D:/nlp/Rotten_Tomato_RandomForest_Model.pkl\",\"wb\"))\n",
    "pickle.dump(tfidf,open(\"D:/nlp/Rotten_Tomato_tfidf_vect.pkl\",\"wb\"))"
   ]
  },
  {
   "cell_type": "markdown",
   "metadata": {},
   "source": [
    "# Thank You"
   ]
  }
 ],
 "metadata": {
  "kernelspec": {
   "display_name": "Python 3",
   "language": "python",
   "name": "python3"
  },
  "language_info": {
   "codemirror_mode": {
    "name": "ipython",
    "version": 3
   },
   "file_extension": ".py",
   "mimetype": "text/x-python",
   "name": "python",
   "nbconvert_exporter": "python",
   "pygments_lexer": "ipython3",
   "version": "3.8.5"
  }
 },
 "nbformat": 4,
 "nbformat_minor": 4
}
